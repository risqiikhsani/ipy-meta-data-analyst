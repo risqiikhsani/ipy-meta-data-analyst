{
 "cells": [
  {
   "cell_type": "markdown",
   "metadata": {
    "deletable": false,
    "editable": false,
    "nbgrader": {
     "cell_type": "markdown",
     "checksum": "74ec449bced8a965ab4ff3b57c406aa3",
     "grade": false,
     "grade_id": "cell-edeb3e58b7634888",
     "locked": true,
     "schema_version": 3,
     "solution": false,
     "task": false
    }
   },
   "source": [
    "# Activity: Basic Exploration\n",
    "\n",
    "## Introduction\n",
    "\n",
    "In this activity you will practice using exploration methods on a data set containing games of online chess*.\n",
    "This activity includes some or all of the following, not necessarily in this order:\n",
    "- Viewing the data\n",
    "- Finding the mean\n",
    "- Finding the median\n",
    "- Standard deviation\n",
    "- Aggregations\n",
    "- Grouping\n",
    "\n",
    "*The data set is from [Kaggle](https://www.kaggle.com/datasets/mysarahmadbhat/online-chess-games).\n"
   ]
  },
  {
   "cell_type": "markdown",
   "metadata": {
    "deletable": false,
    "editable": false,
    "nbgrader": {
     "cell_type": "markdown",
     "checksum": "219599c3e15f49552831a4d022d37415",
     "grade": false,
     "grade_id": "cell-08f080215659ee83",
     "locked": true,
     "schema_version": 3,
     "solution": false,
     "task": false
    }
   },
   "source": [
    "## Note\n",
    "\n",
    "This data set is larger than those used in previous activities. Please run the cell below which uses the `info()` method to get a sense of the data before you begin."
   ]
  },
  {
   "cell_type": "code",
   "execution_count": 1,
   "metadata": {
    "deletable": false,
    "editable": false,
    "nbgrader": {
     "cell_type": "code",
     "checksum": "3ad751dcae36f95c22055f6a82c1efe6",
     "grade": false,
     "grade_id": "cell-586b090242270a20",
     "locked": true,
     "schema_version": 3,
     "solution": false,
     "task": false
    }
   },
   "outputs": [
    {
     "name": "stdout",
     "output_type": "stream",
     "text": [
      "<class 'pandas.core.frame.DataFrame'>\n",
      "RangeIndex: 20058 entries, 0 to 20057\n",
      "Data columns (total 17 columns):\n",
      " #   Column             Non-Null Count  Dtype \n",
      "---  ------             --------------  ----- \n",
      " 0   game_id            20058 non-null  int64 \n",
      " 1   rated              20058 non-null  bool  \n",
      " 2   turns              20058 non-null  int64 \n",
      " 3   victory_status     20058 non-null  object\n",
      " 4   winner             20058 non-null  object\n",
      " 5   time_increment     20058 non-null  object\n",
      " 6   white_id           20058 non-null  object\n",
      " 7   white_rating       20058 non-null  int64 \n",
      " 8   black_id           20058 non-null  object\n",
      " 9   black_rating       20058 non-null  int64 \n",
      " 10  moves              20058 non-null  object\n",
      " 11  opening_code       20058 non-null  object\n",
      " 12  opening_moves      20058 non-null  int64 \n",
      " 13  opening_fullname   20058 non-null  object\n",
      " 14  opening_shortname  20058 non-null  object\n",
      " 15  opening_response   1207 non-null   object\n",
      " 16  opening_variation  14398 non-null  object\n",
      "dtypes: bool(1), int64(5), object(11)\n",
      "memory usage: 2.5+ MB\n"
     ]
    }
   ],
   "source": [
    "import pandas as pd\n",
    "\n",
    "df = pd.read_csv('chess_games.csv')\n",
    "df.info()\n"
   ]
  },
  {
   "cell_type": "markdown",
   "metadata": {
    "deletable": false,
    "editable": false,
    "nbgrader": {
     "cell_type": "markdown",
     "checksum": "9842c19dbc3878e1da33fdf08a7b3184",
     "grade": false,
     "grade_id": "cell-97b92ff91969e827",
     "locked": true,
     "schema_version": 3,
     "solution": false,
     "task": false
    }
   },
   "source": [
    "#### Question 1\n",
    "\n",
    "Create two `DataFrame` objects called `first_three` and `last_three` and assign the first and last three rows of the data set to them, respectively.\n"
   ]
  },
  {
   "cell_type": "code",
   "execution_count": 2,
   "metadata": {
    "deletable": false,
    "nbgrader": {
     "cell_type": "code",
     "checksum": "8ac0b2ec26fd143aa684138551a09b26",
     "grade": false,
     "grade_id": "cell-254b741d2204b531",
     "locked": false,
     "schema_version": 3,
     "solution": true,
     "task": false
    }
   },
   "outputs": [],
   "source": [
    "first_three = df.head(3)\n",
    "last_three = df.tail(3)"
   ]
  },
  {
   "cell_type": "code",
   "execution_count": null,
   "metadata": {
    "deletable": false,
    "editable": false,
    "nbgrader": {
     "cell_type": "code",
     "checksum": "5ef1a06febc5fe16f514dd19834a7a75",
     "grade": true,
     "grade_id": "cell-92f6542acea01bd8",
     "locked": true,
     "points": 1,
     "schema_version": 3,
     "solution": false,
     "task": false
    }
   },
   "outputs": [],
   "source": [
    "# Question 1 Grading Checks\n",
    "\n",
    "assert first_three.shape == (3, 17), 'Make sure that you chose only the first three rows.'\n",
    "assert last_three.shape == (3, 17), 'Make sure that you chose only the last three rows.'\n"
   ]
  },
  {
   "cell_type": "markdown",
   "metadata": {
    "deletable": false,
    "editable": false,
    "nbgrader": {
     "cell_type": "markdown",
     "checksum": "96a396881521f260516f3242a2953c5e",
     "grade": false,
     "grade_id": "cell-4c37b2d455b9ecb2",
     "locked": true,
     "schema_version": 3,
     "solution": false,
     "task": false
    }
   },
   "source": [
    "#### Question 2\n",
    "\n",
    "Create two new `DataFrame` objects called `white_lower_rating` and `white_higher_rating` that are assigned the rows of data where the white player's rating is less than 1200 and greater than or equal to 1800, respectively.\n"
   ]
  },
  {
   "cell_type": "code",
   "execution_count": 3,
   "metadata": {
    "deletable": false,
    "nbgrader": {
     "cell_type": "code",
     "checksum": "e18b5c8cee534b75b08206a495088633",
     "grade": false,
     "grade_id": "cell-c55abfb6732d83be",
     "locked": false,
     "schema_version": 3,
     "solution": true,
     "task": false
    }
   },
   "outputs": [],
   "source": [
    "white_lower_rating=df[df['white_rating'] < 1200]\n",
    "white_higher_rating=df[df['white_rating'] >= 1800]"
   ]
  },
  {
   "cell_type": "code",
   "execution_count": null,
   "metadata": {
    "deletable": false,
    "editable": false,
    "nbgrader": {
     "cell_type": "code",
     "checksum": "38f5e8a7149963fef35dd8e231832001",
     "grade": true,
     "grade_id": "cell-060c576da847aa8a",
     "locked": true,
     "points": 1,
     "schema_version": 3,
     "solution": false,
     "task": false
    }
   },
   "outputs": [],
   "source": [
    "# Question 2 Grading Checks\n",
    "\n",
    "assert isinstance(white_lower_rating, pd.DataFrame), 'Make sure that you are creating a DataFrame object called white_lower_rating.'\n",
    "assert isinstance(white_higher_rating, pd.DataFrame), 'Make sure that you are creating a DataFrame object called white_higher_rating.'\n"
   ]
  },
  {
   "cell_type": "markdown",
   "metadata": {
    "deletable": false,
    "editable": false,
    "nbgrader": {
     "cell_type": "markdown",
     "checksum": "358d279726387ed0a3426d45e902b246",
     "grade": false,
     "grade_id": "cell-f6fba62bb3d99bf5",
     "locked": true,
     "schema_version": 3,
     "solution": false,
     "task": false
    }
   },
   "source": [
    "#### Question 3\n",
    "\n",
    "Using the `black_rating` column, create a `DataFrame` object called `top_10_percent_black` which is assigned the top 10% of black players by rating. That is, the only rows of where the `black_rating` is higher than 90% of all the `black_rating` values."
   ]
  },
  {
   "cell_type": "code",
   "execution_count": null,
   "metadata": {
    "deletable": false,
    "nbgrader": {
     "cell_type": "code",
     "checksum": "25293d38813d2cd858364c0fe30a0eda",
     "grade": false,
     "grade_id": "cell-1c295e601c099a68",
     "locked": false,
     "schema_version": 3,
     "solution": true,
     "task": false
    }
   },
   "outputs": [],
   "source": [
    "top_10_percent_threshold = df['black_rating'].quantile(0.9)\n",
    "\n",
    "top_10_percent_black = df[df['black_rating'] >= top_10_percent_threshold]"
   ]
  },
  {
   "cell_type": "code",
   "execution_count": null,
   "metadata": {
    "deletable": false,
    "editable": false,
    "nbgrader": {
     "cell_type": "code",
     "checksum": "c09e946ec157a72de2ac5d0050e7ab77",
     "grade": true,
     "grade_id": "cell-5c73407a84990420",
     "locked": true,
     "points": 1,
     "schema_version": 3,
     "solution": false,
     "task": false
    }
   },
   "outputs": [],
   "source": [
    "# Question 3 Grading Checks\n",
    "\n",
    "assert top_10_percent_black.shape == (2011, 17), 'Make sure that you are selecting the top 10% of black players by rating. Hint: Try using a conditional statement to check which black_rating values are in the top 10%.'\n"
   ]
  }
 ],
 "metadata": {
  "kernelspec": {
   "display_name": ".venv",
   "language": "python",
   "name": "python3"
  },
  "language_info": {
   "codemirror_mode": {
    "name": "ipython",
    "version": 3
   },
   "file_extension": ".py",
   "mimetype": "text/x-python",
   "name": "python",
   "nbconvert_exporter": "python",
   "pygments_lexer": "ipython3",
   "version": "3.12.3"
  }
 },
 "nbformat": 4,
 "nbformat_minor": 1
}
