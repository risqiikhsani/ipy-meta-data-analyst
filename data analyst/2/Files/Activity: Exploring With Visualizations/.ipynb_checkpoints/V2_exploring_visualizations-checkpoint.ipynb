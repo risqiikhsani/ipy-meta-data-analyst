{
 "cells": [
  {
   "cell_type": "markdown",
   "metadata": {
    "deletable": false,
    "editable": false,
    "nbgrader": {
     "cell_type": "markdown",
     "checksum": "33d286ce62475e9cd790a8c66bd1876f",
     "grade": false,
     "grade_id": "cell-b4265ea3013f0d6a",
     "locked": true,
     "schema_version": 3,
     "solution": false,
     "task": false
    }
   },
   "source": [
    "# Activity: Exploring with Visualizations\n",
    "\n",
    "## Introduction\n",
    "\n",
    "In this activity you will practice using Pandas functionality to create and\n",
    "explore  visualizations.\n",
    "\n",
    "This activity will cover the following topics:\n",
    "- Compare single values against one another.\n",
    "- Compare multiple values against one another.\n",
    "- Use different methods to change how you see the data.\n"
   ]
  },
  {
   "cell_type": "code",
   "execution_count": null,
   "metadata": {
    "deletable": false,
    "editable": false,
    "nbgrader": {
     "cell_type": "code",
     "checksum": "161c54b226659144e3419e87f9ecce4a",
     "grade": false,
     "grade_id": "cell-ff55d41666989426",
     "locked": true,
     "schema_version": 3,
     "solution": false,
     "task": false
    }
   },
   "outputs": [],
   "source": [
    "import pandas as pd\n",
    "import matplotlib.pyplot as plt\n",
    "\n",
    "# Data from https://github.com/mwaskom/seaborn-data/blob/2b29313169bf8dfa77d8dc930f7bd3eba559a906/mpg.csv\n",
    "df = pd.read_csv('mpg.csv')"
   ]
  },
  {
   "cell_type": "markdown",
   "metadata": {
    "deletable": false,
    "editable": false,
    "nbgrader": {
     "cell_type": "markdown",
     "checksum": "02bad9fe596e9fb5815a3faf983f476b",
     "grade": false,
     "grade_id": "cell-f26374ef75a94bc3",
     "locked": true,
     "schema_version": 3,
     "solution": false,
     "task": false
    }
   },
   "source": [
    "#### Question 1\n",
    "\n",
    "Create a new column in the DataFrame `df` called `horsepower_per_cylinder`\n",
    "that gives the value of `horsepower` per `cylinder`.\n",
    "\n",
    "Then, create a scatter plot of `horsepower_per_cylinder` vs `acceleration` \n",
    "(`horsepower_per_cylinder` on the x-axis and `acceleration` on the y-axis).\n",
    "Does `acceleration` tend to _increase_ or _decrease_ as `horsepower_per_cylinder`\n",
    "_increases_?\n",
    "\n",
    "Assign the boolean value `True` to the variable `acc_decreases` if `acceleration`\n",
    "decreases as `horsepower_per_cylinder` increases. Otherswise, assign the boolean\n",
    "value `False` to the variable `acc_decreases`."
   ]
  },
  {
   "cell_type": "code",
   "execution_count": null,
   "metadata": {
    "deletable": false,
    "nbgrader": {
     "cell_type": "code",
     "checksum": "14ec440ec43d0306a8e10452c8e07f49",
     "grade": false,
     "grade_id": "cell-6fccfba5010c30dc",
     "locked": false,
     "schema_version": 3,
     "solution": true,
     "task": false
    }
   },
   "outputs": [],
   "source": [
    "# Your code here\n",
    "\n",
    "# your code here"
   ]
  },
  {
   "cell_type": "code",
   "execution_count": null,
   "metadata": {
    "deletable": false,
    "editable": false,
    "nbgrader": {
     "cell_type": "code",
     "checksum": "601cea810b321a2a7a16af37be74592c",
     "grade": true,
     "grade_id": "cell-a44c99b604c8e187",
     "locked": true,
     "points": 0,
     "schema_version": 3,
     "solution": false,
     "task": false
    }
   },
   "outputs": [],
   "source": [
    "# Question 1 Grading Checks\n",
    "\n",
    "assert 'horsepower_per_cylinder' in df.columns, 'Did create a column called `horsepower_per_cylinder` in the DataFrame?'\n",
    "assert isinstance(acc_decreases, bool), 'Did you assign the either True or False to acc_decreases?'"
   ]
  },
  {
   "cell_type": "markdown",
   "metadata": {
    "deletable": false,
    "editable": false,
    "nbgrader": {
     "cell_type": "markdown",
     "checksum": "5d17966756dbe23751049c07eaa6f740",
     "grade": false,
     "grade_id": "cell-440e420ed2430c8a",
     "locked": true,
     "schema_version": 3,
     "solution": false,
     "task": false
    }
   },
   "source": [
    "#### Question 2\n",
    "\n",
    "Create a single visualization where `horsepower_per_cylinder` and \n",
    "`horsepower` are on the y-axis vs `mpg` on the x-axis in a scatter plot.\n",
    "Make each set of points a different color.\n",
    "\n",
    "Set the result of the plot to the variable `ax`.\n",
    "Your code will look something like:\n",
    "\n",
    "```python\n",
    "ax = # code to create a scatter plot\n",
    "# ... other code\n",
    "```"
   ]
  },
  {
   "cell_type": "code",
   "execution_count": null,
   "metadata": {
    "deletable": false,
    "nbgrader": {
     "cell_type": "code",
     "checksum": "76a941b855edad01f096b072c70b6f48",
     "grade": false,
     "grade_id": "cell-a0cb3957225d7e47",
     "locked": false,
     "schema_version": 3,
     "solution": true,
     "task": false
    }
   },
   "outputs": [],
   "source": [
    "# Your code here\n",
    "\n",
    "# your code here"
   ]
  },
  {
   "cell_type": "code",
   "execution_count": null,
   "metadata": {
    "deletable": false,
    "editable": false,
    "nbgrader": {
     "cell_type": "code",
     "checksum": "5ecf42628088cb2fc72f87f8627b2abb",
     "grade": true,
     "grade_id": "cell-1b28dd3cb7d68ebe",
     "locked": true,
     "points": 1,
     "schema_version": 3,
     "solution": false,
     "task": false
    }
   },
   "outputs": [],
   "source": [
    "# Question 2 Grading Checks\n",
    "\n",
    "assert isinstance(ax, plt.Axes), 'Did you assign the plot result to the variable ax?'"
   ]
  },
  {
   "cell_type": "markdown",
   "metadata": {
    "deletable": false,
    "editable": false,
    "nbgrader": {
     "cell_type": "markdown",
     "checksum": "35afed0878951dae965b7079b144dcf9",
     "grade": false,
     "grade_id": "cell-76b3ba71e5e5bbd2",
     "locked": true,
     "schema_version": 3,
     "solution": false,
     "task": false
    }
   },
   "source": [
    "#### Question 3\n",
    "\n",
    "Create a histogram of the `mpg` column with the number ***50*** bins.\n",
    "Change the x-axis of the visualization to ***'Miles Per Gallon'***\n",
    "\n",
    "Set the result of the plot to the variable `ax`.\n",
    "Your code will look something like:\n",
    "```python\n",
    "ax = # code to create a scatter plot\n",
    "# ... other code\n",
    "```"
   ]
  },
  {
   "cell_type": "code",
   "execution_count": null,
   "metadata": {
    "deletable": false,
    "nbgrader": {
     "cell_type": "code",
     "checksum": "8535b53f28eaf3dc98425f6d439f33c1",
     "grade": false,
     "grade_id": "cell-aaf8a8dff1424d32",
     "locked": false,
     "schema_version": 3,
     "solution": true,
     "task": false
    }
   },
   "outputs": [],
   "source": [
    "# Your code here\n",
    "\n",
    "# your code here"
   ]
  },
  {
   "cell_type": "code",
   "execution_count": null,
   "metadata": {
    "deletable": false,
    "editable": false,
    "nbgrader": {
     "cell_type": "code",
     "checksum": "d5bfbed750cd97ce9b9d51a80a1da501",
     "grade": true,
     "grade_id": "cell-20a543193cfa8773",
     "locked": true,
     "points": 1,
     "schema_version": 3,
     "solution": false,
     "task": false
    }
   },
   "outputs": [],
   "source": [
    "# Question 3 Grading Checks\n",
    "\n",
    "assert isinstance(ax, plt.Axes), 'Did you assign the plot result to the variable ax?'"
   ]
  }
 ],
 "metadata": {
  "kernelspec": {
   "display_name": "Python 3",
   "language": "python",
   "name": "python3"
  },
  "language_info": {
   "codemirror_mode": {
    "name": "ipython",
    "version": 3
   },
   "file_extension": ".py",
   "mimetype": "text/x-python",
   "name": "python",
   "nbconvert_exporter": "python",
   "pygments_lexer": "ipython3",
   "version": "3.7.6"
  }
 },
 "nbformat": 4,
 "nbformat_minor": 4
}
