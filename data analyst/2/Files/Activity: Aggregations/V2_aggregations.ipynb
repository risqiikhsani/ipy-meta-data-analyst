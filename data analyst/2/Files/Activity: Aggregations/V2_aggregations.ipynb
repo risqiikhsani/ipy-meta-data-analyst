{
 "cells": [
  {
   "cell_type": "markdown",
   "metadata": {
    "deletable": false,
    "editable": false,
    "nbgrader": {
     "cell_type": "markdown",
     "checksum": "7a3411d16aa6ff785167d7e8888e06fd",
     "grade": false,
     "grade_id": "cell-cd28f9acec3462ce",
     "locked": true,
     "schema_version": 3,
     "solution": false,
     "task": false
    }
   },
   "source": [
    "# Activity: Aggregations\n",
    "\n",
    "## Introduction\n",
    "\n",
    "In this activity you will practice using Pandas functionality to work with various aggregations.\n",
    "\n",
    "This activity will cover the following topics:\n",
    "- Measure an aggregate statistic over a specific column.\n",
    "- Measure an aggregate statistic over a specific column of subsets using `groupby()` over one column.\n",
    "- Measure multiple aggregate statistics over a specific column of subsets using `groupby()` over one column.\n",
    "- Measure multiple aggregate statistics over a specific column of subsets using `groupby()` over multiple columns.\n",
    "- Measure multiple aggregate statistics over a specific column of subsets using `groupby()` over multiple columns.\n",
    "- Take the transpose of a DataFrame.\n"
   ]
  },
  {
   "cell_type": "code",
   "execution_count": null,
   "metadata": {
    "deletable": false,
    "editable": false,
    "nbgrader": {
     "cell_type": "code",
     "checksum": "5f2e9cc0695244addfe5431c302d8637",
     "grade": false,
     "grade_id": "cell-78f1a09929e24441",
     "locked": true,
     "schema_version": 3,
     "solution": false,
     "task": false
    }
   },
   "outputs": [],
   "source": [
    "import pandas as pd\n",
    "\n",
    "# Data from https://github.com/mwaskom/seaborn-data/blob/2b29313169bf8dfa77d8dc930f7bd3eba559a906/mpg.csv\n",
    "df = pd.read_csv('mpg.csv')"
   ]
  },
  {
   "cell_type": "markdown",
   "metadata": {
    "deletable": false,
    "editable": false,
    "nbgrader": {
     "cell_type": "markdown",
     "checksum": "b8a5cd2fc265ffa3fc108544b7541629",
     "grade": false,
     "grade_id": "cell-172532f3e93117be",
     "locked": true,
     "schema_version": 3,
     "solution": false,
     "task": false
    }
   },
   "source": [
    "#### Question 1\n",
    "\n",
    "Assign the average of the `weight` column where the `origin` is `'usa'` to the variable `weight_usa`."
   ]
  },
  {
   "cell_type": "code",
   "execution_count": null,
   "metadata": {
    "deletable": false,
    "nbgrader": {
     "cell_type": "code",
     "checksum": "c263f36966308c7d832548ed728a9dab",
     "grade": false,
     "grade_id": "cell-f1c164ccdcccc694",
     "locked": false,
     "schema_version": 3,
     "solution": true,
     "task": false
    }
   },
   "outputs": [],
   "source": [
    "# Your code here\n",
    "\n",
    "# your code here"
   ]
  },
  {
   "cell_type": "code",
   "execution_count": null,
   "metadata": {
    "deletable": false,
    "editable": false,
    "nbgrader": {
     "cell_type": "code",
     "checksum": "47b0aea822622610471be4a2fc806a77",
     "grade": true,
     "grade_id": "cell-7d42f27a55c3269d",
     "locked": true,
     "points": 1,
     "schema_version": 3,
     "solution": false,
     "task": false
    }
   },
   "outputs": [],
   "source": [
    "# Question 1 Grading Checks\n",
    "\n",
    "assert isinstance(weight_usa, float), 'Did you assign a number to `weight_usa`?'"
   ]
  },
  {
   "cell_type": "markdown",
   "metadata": {
    "deletable": false,
    "editable": false,
    "nbgrader": {
     "cell_type": "markdown",
     "checksum": "c96842cfe8bad23bcfcca3318f04fa15",
     "grade": false,
     "grade_id": "cell-a77345761431b4e8",
     "locked": true,
     "schema_version": 3,
     "solution": false,
     "task": false
    }
   },
   "source": [
    "#### Question 2\n",
    "\n",
    "Assign the maximum of the `weight` column where the `origin` is `'japan'` to the variable `weight_japan`."
   ]
  },
  {
   "cell_type": "code",
   "execution_count": null,
   "metadata": {
    "deletable": false,
    "nbgrader": {
     "cell_type": "code",
     "checksum": "307e9b3ab6ebea2f733030c65ecb34f3",
     "grade": false,
     "grade_id": "cell-332f4a0fe1fe253f",
     "locked": false,
     "schema_version": 3,
     "solution": true,
     "task": false
    }
   },
   "outputs": [],
   "source": [
    "# Your code here\n",
    "\n",
    "# your code here"
   ]
  },
  {
   "cell_type": "code",
   "execution_count": null,
   "metadata": {
    "deletable": false,
    "editable": false,
    "nbgrader": {
     "cell_type": "code",
     "checksum": "031b4ca04164a3ff4fb500e392622340",
     "grade": true,
     "grade_id": "cell-7fd5bd50cbc0982e",
     "locked": true,
     "points": 1,
     "schema_version": 3,
     "solution": false,
     "task": false
    }
   },
   "outputs": [],
   "source": [
    "# Question 2 Grading Checks\n",
    "\n",
    "print(weight_japan)"
   ]
  },
  {
   "cell_type": "markdown",
   "metadata": {
    "deletable": false,
    "editable": false,
    "nbgrader": {
     "cell_type": "markdown",
     "checksum": "c7656e17c5c393e50440ef7134d260f6",
     "grade": false,
     "grade_id": "cell-9ca5f6a06a7a4c48",
     "locked": true,
     "schema_version": 3,
     "solution": false,
     "task": false
    }
   },
   "source": [
    "#### Question 3\n",
    "\n",
    "Using Pandas' `groupby()` method, group by the `cylinders` column to find the minimum and maximum `horsepower` and assign the result to the variable `weight_by_cylinder`."
   ]
  },
  {
   "cell_type": "code",
   "execution_count": null,
   "metadata": {
    "deletable": false,
    "nbgrader": {
     "cell_type": "code",
     "checksum": "47220f0b6be16cfa7bc3f09a5c147194",
     "grade": false,
     "grade_id": "cell-a35bbf8bc6994cc6",
     "locked": false,
     "schema_version": 3,
     "solution": true,
     "task": false
    }
   },
   "outputs": [],
   "source": [
    "# Your code here\n",
    "\n",
    "# your code here"
   ]
  },
  {
   "cell_type": "code",
   "execution_count": null,
   "metadata": {
    "deletable": false,
    "editable": false,
    "nbgrader": {
     "cell_type": "code",
     "checksum": "06dcff88df2081b562e5ae432feef6d6",
     "grade": true,
     "grade_id": "cell-0a15e2627a69c686",
     "locked": true,
     "points": 1,
     "schema_version": 3,
     "solution": false,
     "task": false
    }
   },
   "outputs": [],
   "source": [
    "# Question 3 Grading Checks\n",
    "\n",
    "assert isinstance(weight_by_cylinder, pd.DataFrame), 'Did you create a DataFrame with `groupby()`?'"
   ]
  }
 ],
 "metadata": {
  "kernelspec": {
   "display_name": "Python 3",
   "language": "python",
   "name": "python3"
  },
  "language_info": {
   "codemirror_mode": {
    "name": "ipython",
    "version": 3
   },
   "file_extension": ".py",
   "mimetype": "text/x-python",
   "name": "python",
   "nbconvert_exporter": "python",
   "pygments_lexer": "ipython3",
   "version": "3.7.6"
  }
 },
 "nbformat": 4,
 "nbformat_minor": 4
}
