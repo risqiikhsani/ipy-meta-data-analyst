{
 "cells": [
  {
   "cell_type": "markdown",
   "metadata": {
    "deletable": false,
    "editable": false,
    "jupyter": {
     "outputs_hidden": false
    },
    "nbgrader": {
     "cell_type": "markdown",
     "checksum": "8067bde3c8ab761a754c331f1d3d05a8",
     "grade": false,
     "grade_id": "cell-74695edc3693b47c",
     "locked": true,
     "schema_version": 3,
     "solution": false,
     "task": false
    }
   },
   "source": [
    "# Activity: Using Pandas\n",
    "\n",
    "## Introduction\n",
    "\n",
    "In this activity you will practice using some of the basic functionality associated with Pandas.\n",
    "This activity will cover the following topics:\n",
    "- Creating a `DataFrame`\n",
    "- Displaying `DataFrame` information\n",
    "- Accessing column data\n",
    "- Getting ranges of column data\n",
    "- Creating Series from dictionaries\n",
    "- Using the `iloc()` and `loc()` methods\n",
    "- Getting data from multiple columns\n",
    "- Getting rows\n"
   ]
  },
  {
   "cell_type": "markdown",
   "metadata": {
    "deletable": false,
    "editable": false,
    "jupyter": {
     "outputs_hidden": false
    },
    "nbgrader": {
     "cell_type": "markdown",
     "checksum": "c9dbef4a806b5cf786666a7a1a9bfe12",
     "grade": false,
     "grade_id": "cell-680b5f8c3da85e9e",
     "locked": true,
     "schema_version": 3,
     "solution": false,
     "task": false
    }
   },
   "source": [
    "#### Question 1\n",
    "\n",
    "Create a DataFrame called `df` from the given CSV file `student_data.csv` then using the `df` DataFrame, assign the `Name` column to a `Series` called `names`.\n"
   ]
  },
  {
   "cell_type": "code",
   "execution_count": null,
   "metadata": {
    "deletable": false,
    "jupyter": {
     "outputs_hidden": false
    },
    "nbgrader": {
     "cell_type": "code",
     "checksum": "c5d08aee7b8d55cb86d159f2d5ebe95f",
     "grade": false,
     "grade_id": "cell-98375e57b88587bc",
     "locked": false,
     "schema_version": 3,
     "solution": true,
     "task": false
    }
   },
   "outputs": [],
   "source": [
    "import pandas as pd\n",
    "# Your code here\n",
    "\n",
    "# your code here"
   ]
  },
  {
   "cell_type": "code",
   "execution_count": null,
   "metadata": {
    "deletable": false,
    "editable": false,
    "jupyter": {
     "outputs_hidden": false
    },
    "nbgrader": {
     "cell_type": "code",
     "checksum": "a0ce656cc0bae718dd8038cefb119a32",
     "grade": true,
     "grade_id": "cell-d179546d994dce5f",
     "locked": true,
     "points": 1,
     "schema_version": 3,
     "solution": false,
     "task": false
    }
   },
   "outputs": [],
   "source": [
    "# Question 1 Grading Checks\n",
    "\n",
    "assert isinstance(df, pd.DataFrame), \"Did you create a DataFrame called df?\"\n",
    "assert isinstance(names, pd.Series), \"Did you assign the Name column in a variable called names?\"\n"
   ]
  },
  {
   "cell_type": "markdown",
   "metadata": {
    "deletable": false,
    "editable": false,
    "jupyter": {
     "outputs_hidden": false
    },
    "nbgrader": {
     "cell_type": "markdown",
     "checksum": "a3c7cc5661d7fd53fdf8d85f7e94b0f2",
     "grade": false,
     "grade_id": "cell-2ff742eb3de77064",
     "locked": true,
     "schema_version": 3,
     "solution": false,
     "task": false
    }
   },
   "source": [
    "#### Question 2\n",
    "\n",
    "Using the `df` DataFrame, assign the `Age` and `Math Grade` columns to a DataFrame called `age_math`.\n"
   ]
  },
  {
   "cell_type": "code",
   "execution_count": null,
   "metadata": {
    "deletable": false,
    "jupyter": {
     "outputs_hidden": false
    },
    "nbgrader": {
     "cell_type": "code",
     "checksum": "1651438eb406b28de942fe8b33b0b695",
     "grade": false,
     "grade_id": "cell-0625d61ebce59851",
     "locked": false,
     "schema_version": 3,
     "solution": true,
     "task": false
    }
   },
   "outputs": [],
   "source": [
    "# Your code here\n",
    "\n",
    "# your code here"
   ]
  },
  {
   "cell_type": "code",
   "execution_count": null,
   "metadata": {
    "deletable": false,
    "editable": false,
    "jupyter": {
     "outputs_hidden": false
    },
    "nbgrader": {
     "cell_type": "code",
     "checksum": "2acfeb27b0e5fa6ea5fc146190f224b9",
     "grade": true,
     "grade_id": "cell-54d4a96060947870",
     "locked": true,
     "points": 1,
     "schema_version": 3,
     "solution": false,
     "task": false
    }
   },
   "outputs": [],
   "source": [
    "# Question 2 Grading Checks\n",
    "\n",
    "assert isinstance(age_math, pd.DataFrame), \"Did you assign the Age and Math Grade columns to a variable called age_math?\"\n"
   ]
  },
  {
   "cell_type": "markdown",
   "metadata": {
    "deletable": false,
    "editable": false,
    "jupyter": {
     "outputs_hidden": false
    },
    "nbgrader": {
     "cell_type": "markdown",
     "checksum": "584425e3161f5e2a63d73774ac42ed33",
     "grade": false,
     "grade_id": "cell-5a76c4b72535a81e",
     "locked": true,
     "schema_version": 3,
     "solution": false,
     "task": false
    }
   },
   "source": [
    "#### Question 3\n",
    "\n",
    "Using the `.loc()` method, assign the `Age` and `Math Grade` columns for the first 30 rows of `df` to a variable called `first_thirty_loc`.\n"
   ]
  },
  {
   "cell_type": "code",
   "execution_count": null,
   "metadata": {
    "deletable": false,
    "jupyter": {
     "outputs_hidden": false
    },
    "nbgrader": {
     "cell_type": "code",
     "checksum": "933272f76e220e6f739cdb3fd921ca63",
     "grade": false,
     "grade_id": "cell-89956eaaf3a9c1a6",
     "locked": false,
     "schema_version": 3,
     "solution": true,
     "task": false
    }
   },
   "outputs": [],
   "source": [
    "# Your code here\n",
    "\n",
    "# your code here"
   ]
  },
  {
   "cell_type": "code",
   "execution_count": null,
   "metadata": {
    "deletable": false,
    "editable": false,
    "jupyter": {
     "outputs_hidden": false
    },
    "nbgrader": {
     "cell_type": "code",
     "checksum": "08c84de616d30b9facaf68701f2a68b3",
     "grade": true,
     "grade_id": "cell-618e7ac032208e13",
     "locked": true,
     "points": 1,
     "schema_version": 3,
     "solution": false,
     "task": false
    }
   },
   "outputs": [],
   "source": [
    "# Question 3 Grading Checks\n",
    "\n",
    "assert isinstance(first_thirty_loc, pd.DataFrame), \"Did you correctly assign the first 30 rows to a variable called first_thirty_loc?\"\n"
   ]
  },
  {
   "cell_type": "markdown",
   "metadata": {
    "deletable": false,
    "editable": false,
    "jupyter": {
     "outputs_hidden": false
    },
    "nbgrader": {
     "cell_type": "markdown",
     "checksum": "602ef3b468b0a007be038341d615845a",
     "grade": false,
     "grade_id": "cell-548c72f9c209521d",
     "locked": true,
     "schema_version": 3,
     "solution": false,
     "task": false
    }
   },
   "source": [
    "#### Question 4\n",
    "\n",
    "Get the even numbered rows from the `Name` and `English Grade` columns and assign the result to a variable called `even_rows_english`.\n"
   ]
  },
  {
   "cell_type": "code",
   "execution_count": null,
   "metadata": {
    "deletable": false,
    "jupyter": {
     "outputs_hidden": false
    },
    "nbgrader": {
     "cell_type": "code",
     "checksum": "88fe773d869d9326b76dec6923deb778",
     "grade": false,
     "grade_id": "cell-e972ac5587c71643",
     "locked": false,
     "schema_version": 3,
     "solution": true,
     "task": false
    }
   },
   "outputs": [],
   "source": [
    "# Your code here\n",
    "\n",
    "# your code here"
   ]
  },
  {
   "cell_type": "code",
   "execution_count": null,
   "metadata": {
    "deletable": false,
    "editable": false,
    "jupyter": {
     "outputs_hidden": false
    },
    "nbgrader": {
     "cell_type": "code",
     "checksum": "cd3686186db091baf365b82e30bc4315",
     "grade": true,
     "grade_id": "cell-c1342bc37cb13e08",
     "locked": true,
     "points": 1,
     "schema_version": 3,
     "solution": false,
     "task": false
    }
   },
   "outputs": [],
   "source": [
    "# Question 4 Grading Checks\n",
    "\n",
    "assert isinstance(even_rows_english, pd.DataFrame), \"Did you correctly assign even numbered rows to a variable called even_rows_english? Hint: the first row is index 0.\"\n"
   ]
  }
 ],
 "metadata": {
  "kernelspec": {
   "display_name": "Python 3",
   "language": "python",
   "name": "python3"
  },
  "language_info": {
   "codemirror_mode": {
    "name": "ipython",
    "version": 3
   },
   "file_extension": ".py",
   "mimetype": "text/x-python",
   "name": "python",
   "nbconvert_exporter": "python",
   "pygments_lexer": "ipython3",
   "version": "3.7.6"
  }
 },
 "nbformat": 4,
 "nbformat_minor": 4
}
